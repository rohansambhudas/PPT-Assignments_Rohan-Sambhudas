{
 "cells": [
  {
   "cell_type": "code",
   "execution_count": null,
   "id": "a17bc6cc",
   "metadata": {},
   "outputs": [],
   "source": [
    "# Question 1\n",
    "SELECT name, email\n",
    "FROM Employees;"
   ]
  },
  {
   "cell_type": "code",
   "execution_count": null,
   "id": "156e1ab5",
   "metadata": {},
   "outputs": [],
   "source": [
    "# Question 2\n",
    "SELECT *\n",
    "FROM Customers\n",
    "WHERE City = 'New York';"
   ]
  },
  {
   "cell_type": "code",
   "execution_count": null,
   "id": "f63bbd9f",
   "metadata": {},
   "outputs": [],
   "source": [
    "# Question 3\n",
    "SELECT *\n",
    "FROM Users\n",
    "ORDER BY DateOfBirth DESC;"
   ]
  },
  {
   "cell_type": "code",
   "execution_count": null,
   "id": "1f764c87",
   "metadata": {},
   "outputs": [],
   "source": [
    "# Question 4\n",
    "SELECT *\n",
    "FROM Users\n",
    "ORDER BY RegistrationDate ASC;"
   ]
  },
  {
   "cell_type": "code",
   "execution_count": null,
   "id": "0772af3b",
   "metadata": {},
   "outputs": [],
   "source": [
    "# Question 5\n",
    "SELECT name, position, salary\n",
    "FROM Employees\n",
    "WHERE salary = (SELECT MAX(salary) FROM Employees);"
   ]
  },
  {
   "cell_type": "code",
   "execution_count": null,
   "id": "c3520b4d",
   "metadata": {},
   "outputs": [],
   "source": [
    "# Question 6\n",
    "SELECT *\n",
    "FROM Customers\n",
    "WHERE Phone LIKE '+1-___-___-____';"
   ]
  },
  {
   "cell_type": "code",
   "execution_count": null,
   "id": "5d2f0d5a",
   "metadata": {},
   "outputs": [],
   "source": [
    "# Question 7\n",
    "SELECT CustomerName, SUM(Amount) AS TotalPurchaseAmount\n",
    "FROM Orders\n",
    "GROUP BY CustomerName\n",
    "ORDER BY TotalPurchaseAmount DESC\n",
    "LIMIT 5;"
   ]
  },
  {
   "cell_type": "code",
   "execution_count": null,
   "id": "a1173329",
   "metadata": {},
   "outputs": [],
   "source": [
    "# Question 8\n",
    "SELECT CategoryName, SUM(SalesAmount) AS TotalSalesAmount,\n",
    "       (SUM(SalesAmount) / (SELECT SUM(SalesAmount) FROM Sales)) * 100 AS PercentageOfTotalSales\n",
    "FROM Sales\n",
    "GROUP BY CategoryName;"
   ]
  },
  {
   "cell_type": "code",
   "execution_count": null,
   "id": "e111e550",
   "metadata": {},
   "outputs": [],
   "source": [
    "# Question 9\n",
    "Write an SQL query to find the customers who have made the highest total purchases across all years from a table named \"Orders\" and display their names, email addresses, and the total purchase amount."
   ]
  }
 ],
 "metadata": {
  "kernelspec": {
   "display_name": "Python 3 (ipykernel)",
   "language": "python",
   "name": "python3"
  },
  "language_info": {
   "codemirror_mode": {
    "name": "ipython",
    "version": 3
   },
   "file_extension": ".py",
   "mimetype": "text/x-python",
   "name": "python",
   "nbconvert_exporter": "python",
   "pygments_lexer": "ipython3",
   "version": "3.10.9"
  }
 },
 "nbformat": 4,
 "nbformat_minor": 5
}

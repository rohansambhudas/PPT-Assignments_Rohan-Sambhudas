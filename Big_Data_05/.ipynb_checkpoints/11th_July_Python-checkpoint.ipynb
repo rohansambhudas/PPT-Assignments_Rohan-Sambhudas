{
 "cells": [
  {
   "cell_type": "code",
   "execution_count": null,
   "id": "a3028841",
   "metadata": {},
   "outputs": [],
   "source": [
    "# Question 1\n",
    "from kafka import KafkaProducer\n",
    "\n",
    "bootstrap_servers = 'localhost:9092'\n",
    "topic = 'my_topic'\n",
    "message = 'Hello, Kafka!'\n",
    "\n",
    "producer = KafkaProducer(bootstrap_servers=bootstrap_servers)\n",
    "producer.send(topic, value=message.encode('utf-8'))\n",
    "producer.flush()\n",
    "producer.close()"
   ]
  },
  {
   "cell_type": "code",
   "execution_count": null,
   "id": "560b592f",
   "metadata": {},
   "outputs": [],
   "source": [
    "# Question 2\n",
    "from kafka import KafkaConsumer\n",
    "\n",
    "# Configure Kafka broker(s) and topic\n",
    "bootstrap_servers = 'kafka1:9092,kafka2:9092,kafka3:9092'  # Replace with actual broker addresses\n",
    "topic = 'my_topic'\n",
    "\n",
    "# Create Kafka consumer\n",
    "consumer = KafkaConsumer(topic, bootstrap_servers=bootstrap_servers)\n",
    "\n",
    "# Consume messages from Kafka topic\n",
    "for message in consumer:\n",
    "    print(f'Received: {message.value.decode(\"utf-8\")}')"
   ]
  },
  {
   "cell_type": "code",
   "execution_count": null,
   "id": "b5681e73",
   "metadata": {},
   "outputs": [],
   "source": [
    "# Question 3\n",
    "from kafka.admin import KafkaAdminClient, NewTopic\n",
    "\n",
    "# Configure Kafka bootstrap servers\n",
    "bootstrap_servers = 'kafka1:9092,kafka2:9092,kafka3:9092'  # Replace with actual broker addresses\n",
    "\n",
    "# Create Kafka admin client\n",
    "admin_client = KafkaAdminClient(bootstrap_servers=bootstrap_servers)\n",
    "\n",
    "# Create a new topic\n",
    "new_topic = NewTopic(name='my_topic', num_partitions=3, replication_factor=1)  # Replace with desired topic details\n",
    "admin_client.create_topics(new_topics=[new_topic])\n",
    "\n",
    "# List existing topics\n",
    "topics = admin_client.list_topics()\n",
    "for topic in topics:\n",
    "    print(topic)\n",
    "\n",
    "# Delete an existing topic\n",
    "admin_client.delete_topics(topics=['my_topic'])  # Replace with the name of the topic to delete"
   ]
  },
  {
   "cell_type": "code",
   "execution_count": null,
   "id": "427f4ce4",
   "metadata": {},
   "outputs": [],
   "source": [
    "# Question 4\n",
    "from kafka import KafkaProducer, KafkaConsumer\n",
    "\n",
    "# Kafka bootstrap servers\n",
    "bootstrap_servers = 'kafka1:9092,kafka2:9092,kafka3:9092'  # Replace with actual broker addresses\n",
    "\n",
    "# Topic to produce/consume messages\n",
    "topic = 'my_topic'  # Replace with the desired topic name\n",
    "\n",
    "# Create a Kafka producer\n",
    "producer = KafkaProducer(bootstrap_servers=bootstrap_servers)\n",
    "\n",
    "# Produce messages\n",
    "for i in range(10):\n",
    "    message = f'Message {i}'.encode('utf-8')\n",
    "    producer.send(topic, value=message)\n",
    "\n",
    "# Flush and close the producer\n",
    "producer.flush()\n",
    "producer.close()\n",
    "\n",
    "# Create a Kafka consumer\n",
    "consumer = KafkaConsumer(topic, bootstrap_servers=bootstrap_servers, group_id='my_consumer_group')\n",
    "\n",
    "# Consume messages\n",
    "for message in consumer:\n",
    "    print(f'Received message: {message.value.decode(\"utf-8\")}')\n",
    "\n",
    "# Close the consumer\n",
    "consumer.close()"
   ]
  },
  {
   "cell_type": "code",
   "execution_count": null,
   "id": "7f112a77",
   "metadata": {},
   "outputs": [],
   "source": [
    "# Question 5\n",
    "from kafka import KafkaConsumer\n",
    "\n",
    "# Kafka bootstrap servers\n",
    "bootstrap_servers = 'kafka1:9092,kafka2:9092,kafka3:9092'  # Replace with actual broker addresses\n",
    "\n",
    "# Topic to consume messages from\n",
    "topic = 'my_topic'  # Replace with the desired topic name\n",
    "\n",
    "# Consumer group ID\n",
    "group_id = 'my_consumer_group'  # Replace with your consumer group ID\n",
    "\n",
    "# Create a Kafka consumer within the consumer group\n",
    "consumer = KafkaConsumer(topic, bootstrap_servers=bootstrap_servers, group_id=group_id)\n",
    "\n",
    "# Consume messages\n",
    "for message in consumer:\n",
    "    print(f'Consumer {consumer.group_id} received message: {message.value.decode(\"utf-8\")}')\n",
    "\n",
    "# Close the consumer\n",
    "consumer.close()"
   ]
  }
 ],
 "metadata": {
  "kernelspec": {
   "display_name": "Python 3 (ipykernel)",
   "language": "python",
   "name": "python3"
  },
  "language_info": {
   "codemirror_mode": {
    "name": "ipython",
    "version": 3
   },
   "file_extension": ".py",
   "mimetype": "text/x-python",
   "name": "python",
   "nbconvert_exporter": "python",
   "pygments_lexer": "ipython3",
   "version": "3.10.9"
  }
 },
 "nbformat": 4,
 "nbformat_minor": 5
}
